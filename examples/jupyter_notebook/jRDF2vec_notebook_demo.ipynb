{
 "cells": [
  {
   "cell_type": "markdown",
   "id": "f287a181-96e6-4adc-9859-9df481acc57b",
   "metadata": {},
   "source": [
    "# jRDF2vec in Jupyter Notebooks Quick Start\n",
    "Let's download the latest version of jRDF2vec:"
   ]
  },
  {
   "cell_type": "code",
   "execution_count": 17,
   "id": "380254a5-fe3e-478c-bbbb-1ef099419f27",
   "metadata": {},
   "outputs": [],
   "source": [
    "!wget https://github.com/dwslab/jRDF2Vec/blob/jars/jars/jrdf2vec-1.2-SNAPSHOT.jar?raw=true -O jrdf2vec.jar &> download_log.txt"
   ]
  },
  {
   "cell_type": "code",
   "execution_count": 9,
   "id": "98106c92-2bf0-4824-bb9c-758499427047",
   "metadata": {},
   "outputs": [],
   "source": [
    "file_to_embed = \"./pizza.owl.xml\""
   ]
  },
  {
   "cell_type": "markdown",
   "id": "e1cf5b5e-59cf-4b0f-bbdf-7bebf6e3bbef",
   "metadata": {},
   "source": [
    "Let's embed:"
   ]
  },
  {
   "cell_type": "code",
   "execution_count": 23,
   "id": "d6c1bb11-60d6-4644-8611-76e32e54697a",
   "metadata": {},
   "outputs": [],
   "source": [
    "!java -jar jrdf2vec.jar -graph $file_to_embed -dimension 25 -embedText &> embedding_log.txt"
   ]
  },
  {
   "cell_type": "markdown",
   "id": "37193f42-2c57-4be0-adb6-b1cabf3d5dde",
   "metadata": {},
   "source": [
    "**We are done.** A folder `walks` should have been created. In the latter, you will find the walks as well as the model files.<br/>\n",
    "The subsequent code is pure Python/Gensim code play with the vectors.\n",
    "\n",
    "\n",
    "Let's quickly print a part of the vocabulary:"
   ]
  },
  {
   "cell_type": "code",
   "execution_count": 19,
   "id": "099c7566-356c-49f4-b69d-8cd8b5b15fb8",
   "metadata": {},
   "outputs": [],
   "source": [
    "from gensim.models import KeyedVectors\n",
    "\n",
    "kv_file = \"./walks/model.kv\"\n",
    "word_vectors = KeyedVectors.load(kv_file, mmap='r')"
   ]
  },
  {
   "cell_type": "code",
   "execution_count": 20,
   "id": "8cdb5fcc-f61f-4afc-b418-9210e6e07408",
   "metadata": {},
   "outputs": [
    {
     "name": "stdout",
     "output_type": "stream",
     "text": [
      "http://www.co-ode.org/ontologies/pizza/pizza.owl#FruitTopping\n",
      "http://www.w3.org/1999/02/22-rdf-syntax-ns#type\n",
      "http://www.w3.org/2002/07/owl#Class\n",
      "http://www.w3.org/2000/01/rdf-schema#subClassOf\n",
      "http://www.co-ode.org/ontologies/pizza/pizza.owl#PizzaTopping\n",
      "http://www.co-ode.org/ontologies/pizza/pizza.owl#Food\n",
      "http://www.co-ode.org/ontologies/pizza/pizza.owl#DomainConcept\n",
      "http://www.w3.org/2002/07/owl#disjointWith\n",
      "http://www.co-ode.org/ontologies/pizza/pizza.owl#ValuePartition\n",
      "http://www.co-ode.org/ontologies/pizza/pizza.owl#PrawnsTopping\n"
     ]
    }
   ],
   "source": [
    "from gensim.models import KeyedVectors\n",
    "\n",
    "def display_vocab(word_vectors: KeyedVectors, n: int) -> None:\n",
    "    i = 0\n",
    "    for w in word_vectors.vocab:\n",
    "        print(w)\n",
    "        i+= 1\n",
    "        if i == n:\n",
    "            return\n",
    "\n",
    "display_vocab(word_vectors=word_vectors, n=10)"
   ]
  },
  {
   "cell_type": "markdown",
   "id": "a4729dc4-8b9d-45c9-961c-93ff36805eaa",
   "metadata": {},
   "source": [
    "Let's quickly print the closest concepts for `http://www.co-ode.org/ontologies/pizza/pizza.owl#PrawnsTopping`"
   ]
  },
  {
   "cell_type": "code",
   "execution_count": 21,
   "id": "5c48e93d-bfd7-4e2a-b6a6-28fee6730929",
   "metadata": {},
   "outputs": [
    {
     "name": "stdout",
     "output_type": "stream",
     "text": [
      "Closest concept to: http://www.co-ode.org/ontologies/pizza/pizza.owl#PrawnsTopping\n",
      "http://www.co-ode.org/ontologies/pizza/pizza.owl#MixedSeafoodTopping (0.9819653630256653)\n",
      "http://www.co-ode.org/ontologies/pizza/pizza.owl#RedOnionTopping (0.9736766219139099)\n",
      "http://www.co-ode.org/ontologies/pizza/pizza.owl#CheeseyVegetableTopping (0.9689896106719971)\n",
      "http://www.co-ode.org/ontologies/pizza/pizza.owl#AsparagusTopping (0.9658721685409546)\n",
      "http://www.co-ode.org/ontologies/pizza/pizza.owl#PineKernels (0.9658286571502686)\n"
     ]
    }
   ],
   "source": [
    "def closest(word_vectors: KeyedVectors, concept: str) -> None:\n",
    "    print(f\"Closest concept to: {concept}\")\n",
    "    for other_concept, confidence in word_vectors.most_similar(positive=[concept], topn=5):\n",
    "        print(f\"{other_concept} ({confidence})\")\n",
    "\n",
    "closest(word_vectors=word_vectors, concept = \"http://www.co-ode.org/ontologies/pizza/pizza.owl#PrawnsTopping\")"
   ]
  },
  {
   "cell_type": "code",
   "execution_count": 22,
   "id": "1988dae4-f9c7-4a67-ab5a-9b49a9631ff5",
   "metadata": {},
   "outputs": [
    {
     "name": "stdout",
     "output_type": "stream",
     "text": [
      "Using server port: 1808\n"
     ]
    }
   ],
   "source": [
    "!java -jar jrdf2vec.jar -convertToW2V ./walks/vectors.txt vectors.w2v"
   ]
  },
  {
   "cell_type": "code",
   "execution_count": null,
   "id": "a6a6f9f8-0375-4276-a3d2-ef1ff592fbb7",
   "metadata": {},
   "outputs": [],
   "source": []
  }
 ],
 "metadata": {
  "kernelspec": {
   "display_name": "Python 3",
   "language": "python",
   "name": "python3"
  },
  "language_info": {
   "codemirror_mode": {
    "name": "ipython",
    "version": 3
   },
   "file_extension": ".py",
   "mimetype": "text/x-python",
   "name": "python",
   "nbconvert_exporter": "python",
   "pygments_lexer": "ipython3",
   "version": "3.8.3"
  }
 },
 "nbformat": 4,
 "nbformat_minor": 5
}
